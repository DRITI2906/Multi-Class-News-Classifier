{
 "cells": [
  {
   "cell_type": "code",
   "execution_count": 12,
   "id": "d12a62a7",
   "metadata": {},
   "outputs": [],
   "source": [
    "import google.generativeai as genai\n",
    "import os\n",
    "from dotenv import load_dotenv\n",
    "import pandas as pd"
   ]
  },
  {
   "cell_type": "code",
   "execution_count": 3,
   "id": "65aac2f1",
   "metadata": {},
   "outputs": [
    {
     "data": {
      "text/plain": [
       "True"
      ]
     },
     "execution_count": 3,
     "metadata": {},
     "output_type": "execute_result"
    }
   ],
   "source": [
    "load_dotenv()"
   ]
  },
  {
   "cell_type": "code",
   "execution_count": 4,
   "id": "38428e2b",
   "metadata": {},
   "outputs": [],
   "source": [
    "GEMINI_API_KEY = os.getenv('GEMINI_API_KEY')\n",
    "if not GEMINI_API_KEY:\n",
    "    raise ValueError(\"Please set GEMINI_API_KEY in your .env file\")\n",
    "\n",
    "genai.configure(api_key=GEMINI_API_KEY)"
   ]
  },
  {
   "cell_type": "code",
   "execution_count": null,
   "id": "34d94942",
   "metadata": {},
   "outputs": [],
   "source": [
    "def classify_news_with_gemini(prompt_template, text):\n",
    "    \"\"\"Classify news using Google Gemini\"\"\"\n",
    "    prompt = prompt_template.format(text=text[:800]) \n",
    "    \n",
    "    try:\n",
    "        model = genai.GenerativeModel(\"gemini-1.5-flash\")\n",
    "        \n",
    "        \n",
    "        response = model.generate_content(\n",
    "            prompt,\n",
    "            generation_config=genai.types.GenerationConfig(\n",
    "                max_output_tokens=15,\n",
    "                temperature=0,\n",
    "                stop_sequences=[\"\\n\"] \n",
    "            )\n",
    "        )\n",
    "        \n",
    "        return response.text.strip()\n",
    "    \n",
    "    except Exception as e:\n",
    "        return f\"Error: {str(e)}\""
   ]
  },
  {
   "cell_type": "code",
   "execution_count": 6,
   "id": "4e3f9811",
   "metadata": {},
   "outputs": [],
   "source": [
    "prompt1 = \"\"\"Classify the following news article into exactly one of these categories: \n",
    "business, entertainment, politics, sport, tech. \n",
    "Answer with only the category name.\n",
    "\n",
    "Article: {text}\n",
    "Category:\"\"\"\n",
    "\n",
    "# Prompt 2: Content-Based Analysis\n",
    "prompt2 = \"\"\"Analyze the content of this news article and determine its primary category.\n",
    "Consider the main topics, entities, and context.\n",
    "\n",
    "Available categories:\n",
    "- business: Companies, markets, economy, finance\n",
    "- entertainment: Movies, music, celebrities, arts\n",
    "- politics: Government, elections, policies, political figures\n",
    "- sport: Sports events, athletes, games, competitions\n",
    "- tech: Technology, gadgets, software, innovation\n",
    "\n",
    "Article: {text}\n",
    "\n",
    "Based on the content analysis, this belongs to the category:\"\"\"\n",
    "\n",
    "# Prompt 3: Few-Shot Learning with Examples\n",
    "prompt3 = \"\"\"I need to classify news articles into categories. Here are examples:\n",
    "\n",
    "1. \"Apple shares rose 5% after strong quarterly earnings\" → business\n",
    "2. \"New Marvel movie breaks box office records\" → entertainment\n",
    "3. \"President announces new climate policy\" → politics\n",
    "4. \"Manchester United wins championship final\" → sport\n",
    "5. \"New iPhone features revolutionary AI technology\" → tech\n",
    "\n",
    "Now classify this article: {text}\n",
    "Category:\"\"\"\n"
   ]
  },
  {
   "cell_type": "code",
   "execution_count": 7,
   "id": "94aab605",
   "metadata": {},
   "outputs": [],
   "source": [
    "sample_articles = [\n",
    "    \"Tesla reported record quarterly profits amid growing electric vehicle demand\",\n",
    "    \"The new Avengers movie premiered to critical acclaim worldwide\",\n",
    "    \"Parliament debates new immigration legislation this week\",\n",
    "    \"Liverpool FC signs promising young striker from Barcelona\",\n",
    "    \"Microsoft unveils new AI-powered operating system features\"\n",
    "]\n",
    "\n",
    "true_categories = ['business', 'entertainment', 'politics', 'sport', 'tech']\n"
   ]
  },
  {
   "cell_type": "code",
   "execution_count": null,
   "id": "1fccce7f",
   "metadata": {},
   "outputs": [
    {
     "name": "stdout",
     "output_type": "stream",
     "text": [
      "\n",
      "==================================================\n",
      "TESTING PROMPT 1\n",
      "==================================================\n",
      "✅ Sample 1 (True: business): Business\n",
      "✅ Sample 2 (True: entertainment): Entertainment\n",
      "✅ Sample 3 (True: politics): Politics\n",
      "✅ Sample 4 (True: sport): Sport\n",
      "✅ Sample 5 (True: tech): Tech\n",
      "\n",
      "==================================================\n",
      "TESTING PROMPT 2\n",
      "==================================================\n",
      "✅ Sample 1 (True: business): Business\n",
      "✅ Sample 2 (True: entertainment): Entertainment\n",
      "✅ Sample 3 (True: politics): Politics\n",
      "✅ Sample 4 (True: sport): Sport\n",
      "✅ Sample 5 (True: tech): Tech\n",
      "\n",
      "==================================================\n",
      "TESTING PROMPT 3\n",
      "==================================================\n",
      "❌ Sample 1 (True: business): Category: **business**\n",
      "❌ Sample 2 (True: entertainment): Category: **entertainment**\n",
      "✅ Sample 3 (True: politics): Politics\n",
      "✅ Sample 4 (True: sport): Sport\n",
      "✅ Sample 5 (True: tech): Tech\n"
     ]
    }
   ],
   "source": [
    "for prompt_num, prompt in enumerate([prompt1, prompt2, prompt3], 1):\n",
    "    print(f\"\\n{'='*50}\")\n",
    "    print(f\"TESTING PROMPT {prompt_num}\")\n",
    "    print(f\"{'='*50}\")\n",
    "    \n",
    "    for i, (article, true_cat) in enumerate(zip(sample_articles, true_categories), 1):\n",
    "        result = classify_news_with_gemini(prompt, article)\n",
    "        status = \"✅\" if result.lower() == true_cat.lower() else \"❌\"\n",
    "        print(f\"{status} Sample {i} (True: {true_cat}): {result}\")\n",
    "        \n",
    "        import time\n",
    "        time.sleep(1)"
   ]
  },
  {
   "cell_type": "code",
   "execution_count": 13,
   "id": "bfd9d5e0",
   "metadata": {},
   "outputs": [],
   "source": [
    "df = pd.read_pickle(\"processed_df.pkl\")"
   ]
  },
  {
   "cell_type": "code",
   "execution_count": 14,
   "id": "d76af223",
   "metadata": {},
   "outputs": [
    {
     "name": "stdout",
     "output_type": "stream",
     "text": [
      "\n",
      "Sample 1:\n",
      "True category: business\n",
      "Gemini result: business\n",
      "Snippet: house price dip november house price dipped slightly november office deputy prime minister odpm said. average house price fell marginally october. recent evidence suggested housing market slowing inte...\n",
      "Match: ✅\n",
      "\n",
      "Sample 2:\n",
      "True category: business\n",
      "Gemini result: Business\n",
      "Snippet: lse set date takeover deal london stock exchange lse planning announce preferred takeover end month newspaper report claim. sunday telegraph said lse plan evidence want retain tight control destiny. d...\n",
      "Match: ✅\n",
      "\n",
      "Sample 3:\n",
      "True category: sport\n",
      "Gemini result: Sport\n",
      "Snippet: harinordoquy suffers france axe number eight imanol harinordoquy dropped france squad six nation match ireland dublin march. harinordoquy second half replacement last saturday defeat wales. bourgoin l...\n",
      "Match: ✅\n"
     ]
    }
   ],
   "source": [
    "real_samples = df.sample(3, random_state=42)\n",
    "for i, (idx, row) in enumerate(real_samples.iterrows(), 1):\n",
    "    snippet = row['cleaned_text'][:200] + \"...\"  # First 200 chars\n",
    "    true_category = row['category']\n",
    "    \n",
    "    result = classify_news_with_gemini(prompt3, snippet)\n",
    "    status = \"✅\" if result.lower() == true_category.lower() else \"❌\"\n",
    "    \n",
    "    print(f\"\\nSample {i}:\")\n",
    "    print(f\"True category: {true_category}\")\n",
    "    print(f\"Gemini result: {result}\")\n",
    "    print(f\"Snippet: {snippet}\")\n",
    "    print(f\"Match: {status}\")\n",
    "    \n",
    "    time.sleep(1)"
   ]
  }
 ],
 "metadata": {
  "kernelspec": {
   "display_name": "Python 3",
   "language": "python",
   "name": "python3"
  },
  "language_info": {
   "codemirror_mode": {
    "name": "ipython",
    "version": 3
   },
   "file_extension": ".py",
   "mimetype": "text/x-python",
   "name": "python",
   "nbconvert_exporter": "python",
   "pygments_lexer": "ipython3",
   "version": "3.13.2"
  }
 },
 "nbformat": 4,
 "nbformat_minor": 5
}
